{
  "nbformat": 4,
  "nbformat_minor": 0,
  "metadata": {
    "colab": {
      "provenance": []
    },
    "kernelspec": {
      "name": "python3",
      "display_name": "Python 3"
    },
    "language_info": {
      "name": "python"
    }
  },
  "cells": [
    {
      "cell_type": "code",
      "execution_count": null,
      "metadata": {
        "id": "jGbW3lJA8kOr"
      },
      "outputs": [],
      "source": [
        "#SOAL 1\n",
        "def cek_prima(n, pembagi):\n",
        "    if pembagi == 1:\n",
        "        return True\n",
        "    elif n % pembagi == 0:\n",
        "        return False\n",
        "    else:\n",
        "        return cek_prima(n, pembagi - 1)\n",
        "\n",
        "bil = int(input('Masukkan angka: '))\n",
        "\n",
        "if bil < 2:\n",
        "    print('Bukan bilangan prima')\n",
        "elif cek_prima(bil, bil - 1):\n",
        "    print('Bilangan Prima')\n",
        "else:\n",
        "    print('Bukan bilangan prima')"
      ]
    },
    {
      "cell_type": "code",
      "source": [
        "#SOAL 2\n",
        "def palindrom(kata):\n",
        "    kata = kata.lower()\n",
        "\n",
        "    if len(kata) == 1 or len(kata) == 0:\n",
        "        return True\n",
        "    elif kata[0] != kata[-1]:\n",
        "        return False\n",
        "    else:\n",
        "        return palindrom(kata[1:-1])\n",
        "\n",
        "print(palindrom(\"kasur rusak\"))"
      ],
      "metadata": {
        "id": "qes8Qw9f8vpk"
      },
      "execution_count": null,
      "outputs": []
    },
    {
      "cell_type": "code",
      "source": [
        "\n",
        "#SOAL 3\n",
        "def ganjil(n):\n",
        "    if n % 2 == 0:\n",
        "        n = n - 1\n",
        "\n",
        "    if n == 1:\n",
        "        return 1\n",
        "    else:\n",
        "        return ganjil(n - 2) + n\n",
        "\n",
        "n = int(input(\"Masukkan n: \"))\n",
        "print(f\"Jumlah deret ganjil hingga {n} adalah {ganjil(n)}\")\n",
        "\n"
      ],
      "metadata": {
        "id": "UePXRYcU82Jg"
      },
      "execution_count": null,
      "outputs": []
    },
    {
      "cell_type": "code",
      "source": [
        "#SOAL 4\n",
        "def total_digit(angka):\n",
        "    if len(angka) == 0:\n",
        "        return 0\n",
        "    else:\n",
        "        return total_digit(angka[:-1]) + int(angka[-1])\n",
        "\n",
        "angka = input(\"Masukkan angka: \")\n",
        "print(f\"Total dari semua digit adalah: {total_digit(angka)}\")\n"
      ],
      "metadata": {
        "id": "tzvQrMWE86U9"
      },
      "execution_count": null,
      "outputs": []
    },
    {
      "cell_type": "code",
      "source": [
        "#SOAL 5\n",
        "def kombinasi(m, n):\n",
        "    if n == 0 or n == m:\n",
        "        return 1\n",
        "    else:\n",
        "        return kombinasi(m-1, n-1) + kombinasi(m-1, n)\n",
        "\n",
        "print(kombinasi(10, 4))\n"
      ],
      "metadata": {
        "id": "RfgWfnRt9BbV"
      },
      "execution_count": null,
      "outputs": []
    }
  ]
}